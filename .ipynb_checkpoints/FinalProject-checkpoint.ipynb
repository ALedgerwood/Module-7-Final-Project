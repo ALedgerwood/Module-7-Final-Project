{
 "cells": [
  {
   "cell_type": "markdown",
   "id": "c3f68323-485d-42bc-b20a-1e863da925df",
   "metadata": {},
   "source": [
    "# Final Project\n",
    "### Alex Ledgerwood\n",
    "\n",
    "Github Repo: https://github.com/ALedgerwood/Module-7-Final-Project\n",
    "Link to Tutorial:https://realpython.com/natural-language-processing-spacy-python/\n",
    "Link to Text to be analyzed:https://readingwise.com/assets/uploads/pdf/The_Hill_We_Climb_Transcript.pdf"
   ]
  },
  {
   "cell_type": "markdown",
   "id": "3fee0dcd-9a69-49c8-84a9-527ea6ec090c",
   "metadata": {},
   "source": [
    "### import spacy and define nlp"
   ]
  },
  {
   "cell_type": "code",
   "execution_count": 15,
   "id": "146cdae4-3b80-4423-9f7a-fd4b7f54cca9",
   "metadata": {
    "tags": []
   },
   "outputs": [
    {
     "data": {
      "text/plain": [
       "<spacy.lang.en.English at 0x1c7f7618e50>"
      ]
     },
     "execution_count": 15,
     "metadata": {},
     "output_type": "execute_result"
    }
   ],
   "source": [
    "import spacy\n",
    "nlp = spacy.load(\"en_core_web_sm\")\n",
    "nlp\n"
   ]
  },
  {
   "cell_type": "markdown",
   "id": "2a8cee52-b123-41fe-8b4e-1524a758f360",
   "metadata": {},
   "source": [
    "### call the .text attribute on each token to get the text contained within that token."
   ]
  },
  {
   "cell_type": "code",
   "execution_count": 18,
   "id": "8903c4fa-2f1b-4364-8e54-180d218ef19d",
   "metadata": {
    "tags": []
   },
   "outputs": [
    {
     "data": {
      "text/plain": [
       "['This',\n",
       " 'tutorial',\n",
       " 'is',\n",
       " 'about',\n",
       " 'Natural',\n",
       " 'Language',\n",
       " 'Processing',\n",
       " 'in',\n",
       " 'spaCy',\n",
       " '.']"
      ]
     },
     "execution_count": 18,
     "metadata": {},
     "output_type": "execute_result"
    }
   ],
   "source": [
    "introduction_doc = nlp(\"This tutorial is about Natural Language Processing in spaCy.\")\n",
    "type(introduction_doc)\n",
    "\n",
    "[token.text for token in introduction_doc]"
   ]
  },
  {
   "cell_type": "markdown",
   "id": "8db86815-d30e-4862-9ac5-0176a290f2ef",
   "metadata": {},
   "source": [
    "### do the same thing but reading from a file, not typing it in\n",
    "\n",
    "I don't know where the introduction.txt file is supposed to be - I am using the exact code from the tutorial"
   ]
  },
  {
   "cell_type": "markdown",
   "id": "2e871e3c-17ff-4aae-ab62-3883b4b93d06",
   "metadata": {
    "tags": []
   },
   "source": [
    ">>> import pathlib\n",
    ">>> file_name = \"introduction.txt\"\n",
    ">>> introduction_doc = nlp(pathlib.Path(file_name).read_text(encoding=\"utf-8\"))\n",
    ">>> print ([token.text for token in introduction_doc])"
   ]
  },
  {
   "cell_type": "markdown",
   "id": "40aa8f2b-1b66-4134-9f44-e469ccef55bb",
   "metadata": {},
   "source": [
    "### the .sents property is used to extract sentences from the Doc object"
   ]
  },
  {
   "cell_type": "code",
   "execution_count": 22,
   "id": "9e88a2b3-1658-4182-9a1d-0206910efc7c",
   "metadata": {
    "tags": []
   },
   "outputs": [
    {
     "name": "stdout",
     "output_type": "stream",
     "text": [
      "Gus Proto is a Python...\n",
      "He is interested in learning...\n"
     ]
    }
   ],
   "source": [
    ">>> about_text = (\n",
    "...     \"Gus Proto is a Python developer currently\"\n",
    "...     \" working for a London-based Fintech\"\n",
    "...     \" company. He is interested in learning\"\n",
    "...     \" Natural Language Processing.\"\n",
    "... )\n",
    ">>> about_doc = nlp(about_text)\n",
    ">>> sentences = list(about_doc.sents)\n",
    ">>> len(sentences)\n",
    "2\n",
    ">>> for sentence in sentences:\n",
    "...     print(f\"{sentence[:5]}...\")"
   ]
  },
  {
   "cell_type": "markdown",
   "id": "4ef10447-734c-453a-8db6-d1157ba0364f",
   "metadata": {},
   "source": [
    "### Creating custom delimeters in sentence detection\n",
    "\n",
    "this uses elipses as a delimeter"
   ]
  },
  {
   "cell_type": "code",
   "execution_count": 23,
   "id": "7340b72f-580d-48fb-87c9-08366328f1a9",
   "metadata": {
    "tags": []
   },
   "outputs": [
    {
     "name": "stdout",
     "output_type": "stream",
     "text": [
      "Gus, can you, ...\n",
      "never mind, I forgot what I was saying.\n",
      "So, do you think we should ...\n"
     ]
    }
   ],
   "source": [
    ">>> ellipsis_text = (\n",
    "...     \"Gus, can you, ... never mind, I forgot\"\n",
    "...     \" what I was saying. So, do you think\"\n",
    "...     \" we should ...\"\n",
    "... )\n",
    "\n",
    ">>> from spacy.language import Language\n",
    ">>> @Language.component(\"set_custom_boundaries\")\n",
    "... def set_custom_boundaries(doc):\n",
    "...     \"\"\"Add support to use `...` as a delimiter for sentence detection\"\"\"\n",
    "...     for token in doc[:-1]:\n",
    "...         if token.text == \"...\":\n",
    "...             doc[token.i + 1].is_sent_start = True\n",
    "...     return doc\n",
    "...\n",
    "\n",
    ">>> custom_nlp = spacy.load(\"en_core_web_sm\")\n",
    ">>> custom_nlp.add_pipe(\"set_custom_boundaries\", before=\"parser\")\n",
    ">>> custom_ellipsis_doc = custom_nlp(ellipsis_text)\n",
    ">>> custom_ellipsis_sentences = list(custom_ellipsis_doc.sents)\n",
    ">>> for sentence in custom_ellipsis_sentences:\n",
    "...     print(sentence)"
   ]
  },
  {
   "cell_type": "markdown",
   "id": "c5310147-5f15-4f76-add0-3ae00df97ee3",
   "metadata": {},
   "source": [
    "### Tokenization - showing that the token’s original index position in the string is still available as an attribute on Token\n",
    "\n",
    "could be useful for in-place word replacement down the line"
   ]
  },
  {
   "cell_type": "code",
   "execution_count": 24,
   "id": "8a1ee85d-68a4-410b-bade-b183c4ec8da0",
   "metadata": {
    "tags": []
   },
   "outputs": [
    {
     "name": "stdout",
     "output_type": "stream",
     "text": [
      "Gus 0\n",
      "Proto 4\n",
      "is 10\n",
      "a 13\n",
      "Python 15\n",
      "developer 22\n",
      "currently 32\n",
      "working 42\n",
      "for 50\n",
      "a 54\n",
      "London 56\n",
      "- 62\n",
      "based 63\n",
      "Fintech 69\n",
      "company 77\n",
      ". 84\n",
      "He 86\n",
      "is 89\n",
      "interested 92\n",
      "in 103\n",
      "learning 106\n",
      "Natural 115\n",
      "Language 123\n",
      "Processing 132\n",
      ". 142\n"
     ]
    }
   ],
   "source": [
    ">>> import spacy\n",
    ">>> nlp = spacy.load(\"en_core_web_sm\")\n",
    ">>> about_text = (\n",
    "...     \"Gus Proto is a Python developer currently\"\n",
    "...     \" working for a London-based Fintech\"\n",
    "...     \" company. He is interested in learning\"\n",
    "...     \" Natural Language Processing.\"\n",
    "... )\n",
    ">>> about_doc = nlp(about_text)\n",
    "\n",
    ">>> for token in about_doc:\n",
    "...     print (token, token.idx)"
   ]
  },
  {
   "cell_type": "markdown",
   "id": "0c86951c-6869-476e-b08b-6ae5e8a6f3dc",
   "metadata": {},
   "source": [
    "### Other attributes for the token class\n",
    "use f-string formatting to output a table accessing some common attributes from each Token in Doc:\n",
    "\n",
    ".text_with_ws prints the token text along with any trailing space, if present.\n",
    "\n",
    ".is_alpha indicates whether the token consists of alphabetic characters or not.\n",
    "\n",
    ".is_punct indicates whether the token is a punctuation symbol or not.\n",
    "\n",
    ".is_stop indicates whether the token is a stop word or not. "
   ]
  },
  {
   "cell_type": "code",
   "execution_count": 30,
   "id": "e6ec7791-a562-494e-8a4a-b0205fe76fab",
   "metadata": {
    "tags": []
   },
   "outputs": [
    {
     "name": "stdout",
     "output_type": "stream",
     "text": [
      "Text with Whitespace  Is Alphanumeric?Is Punctuation?   Is Stop Word?\n",
      "Gus                   True           False             False\n",
      "Proto                 True           False             False\n",
      "is                    True           False             True\n",
      "a                     True           False             True\n",
      "Python                True           False             False\n",
      "developer             True           False             False\n",
      "currently             True           False             False\n",
      "working               True           False             False\n",
      "for                   True           False             True\n",
      "a                     True           False             True\n",
      "London                True           False             False\n",
      "-                     False          True              False\n",
      "based                 True           False             False\n",
      "Fintech               True           False             False\n",
      "company               True           False             False\n",
      ".                     False          True              False\n",
      "He                    True           False             True\n",
      "is                    True           False             True\n",
      "interested            True           False             False\n",
      "in                    True           False             True\n",
      "learning              True           False             False\n",
      "Natural               True           False             False\n",
      "Language              True           False             False\n",
      "Processing            True           False             False\n",
      ".                     False          True              False\n"
     ]
    }
   ],
   "source": [
    ">>> print(\n",
    "...     f\"{'Text with Whitespace':22}\"\n",
    "...     f\"{'Is Alphanumeric?':15}\"\n",
    "...     f\"{'Is Punctuation?':18}\"\n",
    "...     f\"{'Is Stop Word?'}\"\n",
    "... )\n",
    ">>> for token in about_doc:\n",
    "...     print(\n",
    "...         f\"{str(token.text_with_ws):22}\"\n",
    "...         f\"{str(token.is_alpha):15}\"\n",
    "...         f\"{str(token.is_punct):18}\"\n",
    "...         f\"{str(token.is_stop)}\"\n",
    "...     )\n",
    "..."
   ]
  },
  {
   "cell_type": "markdown",
   "id": "72658f84-c377-4689-9e52-e94f2713653c",
   "metadata": {},
   "source": [
    "### custom tokenization"
   ]
  },
  {
   "cell_type": "code",
   "execution_count": 31,
   "id": "f67bb31a-b169-41a7-a4c7-941a5ad0d6af",
   "metadata": {
    "tags": []
   },
   "outputs": [
    {
     "name": "stdout",
     "output_type": "stream",
     "text": [
      "['for', 'a', 'London@based', 'Fintech', 'company', '.', 'He']\n"
     ]
    }
   ],
   "source": [
    ">>> custom_about_text = (\n",
    "...     \"Gus Proto is a Python developer currently\"\n",
    "...     \" working for a London@based Fintech\"\n",
    "...     \" company. He is interested in learning\"\n",
    "...     \" Natural Language Processing.\"\n",
    "... )\n",
    "\n",
    ">>> print([token.text for token in nlp(custom_about_text)[8:15]])"
   ]
  },
  {
   "cell_type": "markdown",
   "id": "507e9ff8-6ac4-4ebc-82a7-4fe4fe028bd9",
   "metadata": {},
   "source": [
    "### To include the @ symbol as a custom infix, you need to build your own Tokenizer object"
   ]
  },
  {
   "cell_type": "code",
   "execution_count": 32,
   "id": "8fd08a0d-6791-49ba-b691-72d8a894a754",
   "metadata": {
    "tags": []
   },
   "outputs": [
    {
     "name": "stdout",
     "output_type": "stream",
     "text": [
      "['for', 'a', 'London', '@', 'based', 'Fintech', 'company']\n"
     ]
    }
   ],
   "source": [
    ">>> import re\n",
    ">>> from spacy.tokenizer import Tokenizer\n",
    "\n",
    ">>> custom_nlp = spacy.load(\"en_core_web_sm\")\n",
    ">>> prefix_re = spacy.util.compile_prefix_regex(\n",
    "...     custom_nlp.Defaults.prefixes\n",
    "... )\n",
    ">>> suffix_re = spacy.util.compile_suffix_regex(\n",
    "...     custom_nlp.Defaults.suffixes\n",
    "... )\n",
    "\n",
    ">>> custom_infixes = [r\"@\"]\n",
    "\n",
    ">>> infix_re = spacy.util.compile_infix_regex(\n",
    "...     list(custom_nlp.Defaults.infixes) + custom_infixes\n",
    "... )\n",
    "\n",
    ">>> custom_nlp.tokenizer = Tokenizer(\n",
    "...     nlp.vocab,\n",
    "...     prefix_search=prefix_re.search,\n",
    "...     suffix_search=suffix_re.search,\n",
    "...     infix_finditer=infix_re.finditer,\n",
    "...     token_match=None,\n",
    "... )\n",
    "\n",
    ">>> custom_tokenizer_about_doc = custom_nlp(custom_about_text)\n",
    "\n",
    ">>> print([token.text for token in custom_tokenizer_about_doc[8:15]])"
   ]
  },
  {
   "cell_type": "markdown",
   "id": "85c4a09a-f303-45ae-83de-ed04527616c5",
   "metadata": {},
   "source": [
    "### Stop Words\n",
    "Stop words are typically defined as the most common words in a language.\n",
    "\n",
    "With NLP, stop words are generally removed because they aren’t significant, and they heavily distort any word frequency analysis. "
   ]
  },
  {
   "cell_type": "code",
   "execution_count": 33,
   "id": "87b68806-b0f9-4d18-b19a-085832895f75",
   "metadata": {
    "tags": []
   },
   "outputs": [
    {
     "name": "stdout",
     "output_type": "stream",
     "text": [
      "him\n",
      "seem\n",
      "had\n",
      "then\n",
      "should\n",
      "move\n",
      "’m\n",
      "becoming\n",
      "yours\n",
      "every\n"
     ]
    }
   ],
   "source": [
    ">>> import spacy\n",
    ">>> spacy_stopwords = spacy.lang.en.stop_words.STOP_WORDS\n",
    ">>> len(spacy_stopwords)\n",
    "326\n",
    ">>> for stop_word in list(spacy_stopwords)[:10]:\n",
    "...     print(stop_word)"
   ]
  },
  {
   "cell_type": "markdown",
   "id": "34d14ca9-db2d-455e-86cd-a1f426246d90",
   "metadata": {},
   "source": [
    "### .is_stop attribute\n",
    "You don’t need to access this list directly, though. You can remove stop words from the input text by making use of the .is_stop attribute of each token:"
   ]
  },
  {
   "cell_type": "code",
   "execution_count": 34,
   "id": "ac00cb07-822f-4a7c-aa91-8bd2475b6b92",
   "metadata": {
    "tags": []
   },
   "outputs": [
    {
     "name": "stdout",
     "output_type": "stream",
     "text": [
      "[Gus, Proto, Python, developer, currently, working, London, -, based, Fintech, company, ., interested, learning, Natural, Language, Processing, .]\n"
     ]
    }
   ],
   "source": [
    ">>> custom_about_text = (\n",
    "...     \"Gus Proto is a Python developer currently\"\n",
    "...     \" working for a London-based Fintech\"\n",
    "...     \" company. He is interested in learning\"\n",
    "...     \" Natural Language Processing.\"\n",
    "... )\n",
    ">>> nlp = spacy.load(\"en_core_web_sm\")\n",
    ">>> about_doc = nlp(custom_about_text)\n",
    ">>> print([token for token in about_doc if not token.is_stop])"
   ]
  },
  {
   "cell_type": "code",
   "execution_count": null,
   "id": "6a76610a-d284-42e2-b855-7f1ff9660b94",
   "metadata": {},
   "outputs": [],
   "source": []
  }
 ],
 "metadata": {
  "kernelspec": {
   "display_name": "Python 3 (ipykernel)",
   "language": "python",
   "name": "python3"
  },
  "language_info": {
   "codemirror_mode": {
    "name": "ipython",
    "version": 3
   },
   "file_extension": ".py",
   "mimetype": "text/x-python",
   "name": "python",
   "nbconvert_exporter": "python",
   "pygments_lexer": "ipython3",
   "version": "3.9.13"
  }
 },
 "nbformat": 4,
 "nbformat_minor": 5
}
